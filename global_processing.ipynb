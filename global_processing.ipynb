{
 "cells": [
  {
   "cell_type": "markdown",
   "id": "41662320-cc72-4398-b733-bacde5841519",
   "metadata": {},
   "source": [
    "# Global MODIS snow presence processing"
   ]
  },
  {
   "cell_type": "markdown",
   "id": "eb83832e-1b92-4ad7-a82a-463c681f6a56",
   "metadata": {},
   "source": [
    "### Installs and imports"
   ]
  },
  {
   "cell_type": "code",
   "execution_count": null,
   "id": "378f51b9-daf6-4181-985e-a36790573e20",
   "metadata": {},
   "outputs": [],
   "source": [
    "#!pip install -q -e 'git+https://github.com/egagli/easysnowdata.git#egg=easysnowdata'\n",
    "#!pip install -q geodatasets"
   ]
  },
  {
   "cell_type": "code",
   "execution_count": null,
   "id": "dc414f16-cf74-4c77-9f0e-76089574592c",
   "metadata": {},
   "outputs": [],
   "source": [
    "import numpy as np\n",
    "import pandas as pd\n",
    "import matplotlib.pyplot as plt\n",
    "import geopandas as gpd\n",
    "import geodatasets\n",
    "import xarray as xr\n",
    "import easysnowdata\n",
    "import modis_masking\n",
    "#import dask_gateway\n",
    "import tqdm\n",
    "import glob\n",
    "import os\n",
    "import shutil\n",
    "import tempfile"
   ]
  },
  {
   "cell_type": "code",
   "execution_count": null,
   "id": "3052cd49",
   "metadata": {},
   "outputs": [],
   "source": [
    "import dask\n",
    "import dask.distributed\n",
    "from dask.diagnostics import ProgressBar\n",
    "\n",
    "import coiled\n",
    "\n",
    "\n",
    "# coiled.create_software_environment(\n",
    "#     name=\"sar_snowmelt_timing\",\n",
    "#     conda=\"../sar_snowmelt_timing/environment.yml\",\n",
    "#     workspace=\"azure\",\n",
    "#     #force_rebuild=True\n",
    "# )\n",
    "\n",
    "cluster = coiled.Cluster(idle_timeout=\"5 minutes\",\n",
    "                         n_workers=30,\n",
    "                         worker_memory=\"8 GiB\",\n",
    "                         spot_policy=\"spot\", # spot usually\n",
    "                         #software=\"sar_snowmelt_timing\",\n",
    "                         environ={\"GDAL_DISABLE_READDIR_ON_OPEN\": \"EMPTY_DIR\"},\n",
    "                         #container=\"mcr.microsoft.com/planetary-computer/python:latest\",\n",
    "                         workspace=\"azure\",\n",
    "                         )\n",
    "\n",
    "client = cluster.get_client()"
   ]
  },
  {
   "cell_type": "markdown",
   "id": "25f8d088-352b-4f51-8b33-25e370233edb",
   "metadata": {},
   "source": [
    "### Use dask gateway on planetary computer, we've got lots of computations to do..."
   ]
  },
  {
   "cell_type": "code",
   "execution_count": null,
   "id": "4d5d67b6-478f-49ef-86c7-1aae8c03819f",
   "metadata": {},
   "outputs": [],
   "source": [
    "# cluster = dask_gateway.GatewayCluster()\n",
    "# client = cluster.get_client()\n",
    "# client.upload_file('modis_masking.py')\n",
    "# cluster.scale(50)\n",
    "# print(cluster.dashboard_link)"
   ]
  },
  {
   "cell_type": "markdown",
   "id": "964955fc-de50-41bf-acd7-9345e0039750",
   "metadata": {},
   "source": [
    "### To save time, let's only process MODIS tiles with land in them! Check out [MODIS's grid system](https://modis-land.gsfc.nasa.gov/MODLAND_grid.html)."
   ]
  },
  {
   "cell_type": "code",
   "execution_count": null,
   "id": "c172ee60-70a6-418a-8175-ba87cb618f33",
   "metadata": {},
   "outputs": [],
   "source": [
    "modis_grid = gpd.read_file('zip+http://book.ecosens.org/wp-content/uploads/2016/06/modis_grid.zip!modis_sinusoidal_grid_world.shp')\n",
    "land = gpd.read_file(geodatasets.get_url('naturalearth land'))\n",
    "land_modis_crs = gpd.GeoSeries(land.union_all(),crs='EPSG:4326').to_crs(modis_grid.crs)\n",
    "modis_grid_land_idx = modis_grid.intersects(land_modis_crs.union_all())\n",
    "modis_grid_land_idx[600] = False\n",
    "modis_grid_land = modis_grid[modis_grid_land_idx]\n",
    "modis_grid_not_land = modis_grid[~modis_grid_land_idx]\n",
    "modis_grid_land"
   ]
  },
  {
   "cell_type": "code",
   "execution_count": null,
   "id": "d44302db-9599-4d64-a83e-dfa7ce338e72",
   "metadata": {},
   "outputs": [],
   "source": [
    "f,ax=plt.subplots(figsize=(15,15))\n",
    "land_modis_crs.plot(ax=ax,color='green')\n",
    "modis_grid_not_land.geometry.boundary.plot(ax=ax,color='gray',linewidth=0.5)\n",
    "modis_grid_land.geometry.boundary.plot(ax=ax,color='blue',linewidth=2)\n",
    "ax.set_title('MODIS grid system\\nland tiles in blue')"
   ]
  },
  {
   "cell_type": "markdown",
   "id": "09222612-1d85-45b7-8e74-cfb40313d635",
   "metadata": {},
   "source": [
    "### Use easysnowdata to bring in MODIS MOD10A2 product, select 'Maximum_Snow_Extent'. Add WY and DOWY info to the time dimension. Binarize and cloud fill data. Groupby water year and create snow presence rasters for each water year. Then save to zarr to be stitched together later."
   ]
  },
  {
   "cell_type": "code",
   "execution_count": null,
   "id": "f75d52a8-166b-44e7-9a05-c7ecdb0e0c20",
   "metadata": {},
   "outputs": [],
   "source": [
    "WY_start = 2015\n",
    "WY_end = 2023\n",
    "\n",
    "modis_grid_land_list = list(modis_grid_land.iterrows())\n",
    "output_dir = 'output/global'\n",
    "\n",
    "\n",
    "file_list = glob.glob(f'{output_dir}/*.zarr')\n",
    "file_list"
   ]
  },
  {
   "cell_type": "code",
   "execution_count": null,
   "id": "28659b8a-7095-4775-97e3-c453d397dc64",
   "metadata": {},
   "outputs": [],
   "source": [
    "for index, tile in tqdm.tqdm(modis_grid_land_list):\n",
    "\n",
    "    h = tile['h']\n",
    "    v = tile['v']\n",
    "\n",
    "    filepath = f'{output_dir}/tile_h{h}_v{v}.zarr'\n",
    "\n",
    "    hemisphere = 'northern' if v < 9 else 'southern'\n",
    "    \n",
    "    if filepath not in file_list:\n",
    "    \n",
    "        if hemisphere == 'northern':\n",
    "            modis_snow_da = easysnowdata.remote_sensing.MODIS_snow(vertical_tile=v,horizontal_tile=h,clip_to_bbox=False,start_date=f'{WY_start-1}-10-01',end_date=f'{WY_end}-09-30',data_product=\"MOD10A2\", bands='Maximum_Snow_Extent', mute=True).data['Maximum_Snow_Extent']\n",
    "        else:\n",
    "            modis_snow_da = easysnowdata.remote_sensing.MODIS_snow(vertical_tile=v,horizontal_tile=h,clip_to_bbox=False,start_date=f'{WY_start}-04-01',end_date=f'{WY_end+1}-03-31',data_product=\"MOD10A2\", bands='Maximum_Snow_Extent', mute=True).data['Maximum_Snow_Extent']\n",
    "        \n",
    "        modis_snow_da.coords['WY'] = (\"time\",pd.to_datetime(modis_snow_da.time).map(lambda x: easysnowdata.utils.datetime_to_WY(x,hemisphere=hemisphere)))\n",
    "        modis_snow_da.coords['DOWY'] = (\"time\",pd.to_datetime(modis_snow_da.time).map(lambda x: easysnowdata.utils.datetime_to_DOWY(x,hemisphere=hemisphere)))\n",
    "    \n",
    "        modis_snow_da = modis_snow_da[(modis_snow_da.WY >= WY_start) & (modis_snow_da.WY <= WY_end)]\n",
    "        \n",
    "        effective_snow_da = modis_masking.binarize_with_cloud_filling(modis_snow_da)\n",
    "    \n",
    "        seasonal_snow_presence = effective_snow_da.groupby('WY').apply(modis_masking.get_max_consec_snow_days_SAD_SDD_one_WY).compute()\n",
    "    \n",
    "        # using tempfile so i dont accidentally corrupt with keyboard interrupt\n",
    "        with tempfile.TemporaryDirectory() as tmpdirname:\n",
    "            temp_filepath = os.path.join(tmpdirname, 'temp.zarr')\n",
    "            seasonal_snow_presence.to_zarr(temp_filepath, mode='w')\n",
    "            shutil.move(temp_filepath, filepath)\n",
    "            print(f'{filepath} complete')\n",
    "\n",
    "    else:\n",
    "        print(f'{filepath} already processed. skipping...')"
   ]
  },
  {
   "cell_type": "code",
   "execution_count": null,
   "id": "aefe7e92-c53f-4a3f-ab08-0511690c4e8a",
   "metadata": {},
   "outputs": [],
   "source": [
    "# def process_tile(tile, output_dir, file_list, WY_start, WY_end):\n",
    "    \n",
    "#     h = tile['h']\n",
    "#     v = tile['v']\n",
    "\n",
    "#     hemisphere = 'northern' if v < 9 else 'southern'\n",
    "\n",
    "#     filepath = f'{output_dir}/tile_h{h}_v{v}.zarr'\n",
    "#     print(f'the filepath is {filepath}')\n",
    "    \n",
    "    \n",
    "#     if filepath not in file_list:\n",
    "#         if hemisphere == 'northern':\n",
    "#             modis_snow_da = easysnowdata.remote_sensing.MODIS_snow(vertical_tile=v, horizontal_tile=h, clip_to_bbox=False, start_date=f'{WY_start-1}-10-01', end_date=f'{WY_end}-09-30', data_product=\"MOD10A2\", bands='Maximum_Snow_Extent', mute=True).data['Maximum_Snow_Extent']\n",
    "#         else:\n",
    "#             modis_snow_da = easysnowdata.remote_sensing.MODIS_snow(vertical_tile=v, horizontal_tile=h, clip_to_bbox=False, start_date=f'{WY_start}-04-01', end_date=f'{WY_end+1}-03-31', data_product=\"MOD10A2\", bands='Maximum_Snow_Extent', mute=True).data['Maximum_Snow_Extent']\n",
    "        \n",
    "#         modis_snow_da.coords['WY'] = (\"time\", pd.to_datetime(modis_snow_da.time).map(lambda x: easysnowdata.utils.datetime_to_WY(x, hemisphere=hemisphere)))\n",
    "#         modis_snow_da.coords['DOWY'] = (\"time\", pd.to_datetime(modis_snow_da.time).map(lambda x: easysnowdata.utils.datetime_to_DOWY(x, hemisphere=hemisphere)))\n",
    "    \n",
    "#         modis_snow_da = modis_snow_da[(modis_snow_da.WY >= WY_start) & (modis_snow_da.WY <= WY_end)]\n",
    "        \n",
    "#         effective_snow_da = modis_masking.binarize_with_cloud_filling(modis_snow_da)\n",
    "    \n",
    "#         seasonal_snow_presence = effective_snow_da.groupby('WY').apply(modis_masking.get_max_consec_snow_days_SAD_SDD_one_WY)\n",
    "    \n",
    "#         seasonal_snow_presence.to_zarr(filepath, mode='w-') #compute False so we can use delayed\n",
    "    \n",
    "#         print(f'tile h={h} v={v} complete')\n",
    "#     else:\n",
    "#         print(f'{filepath} already processed. skipping...')\n",
    "# \n",
    "# for index, tile in tqdm.tqdm(modis_grid_land_list):\n",
    "#     process_tile(tile, output_dir, file_list, WY_start, WY_end)\n",
    "# \n",
    "# \n",
    "# \n",
    "# # import logging\n",
    "\n",
    "# # Setup basic configuration for logging\n",
    "# logging.basicConfig(level=logging.INFO)\n",
    "\n",
    "# # Replace print statements with logging\n",
    "\n",
    "# # Define a function to process each tile\n",
    "# def process_tile(tile, output_dir, file_list, WY_start, WY_end):\n",
    "#     h = tile['h']\n",
    "#     v = tile['v']\n",
    "#     filepath = f'{output_dir}/tile_h{h}_v{v}.zarr'\n",
    "#     hemisphere = 'northern' if v < 9 else 'southern'\n",
    "#     logging.info(filepath)\n",
    "    \n",
    "#     if filepath not in file_list:\n",
    "#         if hemisphere == 'northern':\n",
    "#             modis_snow_da = easysnowdata.remote_sensing.MODIS_snow(vertical_tile=v, horizontal_tile=h, clip_to_bbox=False, start_date=f'{WY_start-1}-10-01', end_date=f'{WY_end}-09-30', data_product=\"MOD10A2\", bands='Maximum_Snow_Extent', mute=True).data['Maximum_Snow_Extent']\n",
    "#         else:\n",
    "#             modis_snow_da = easysnowdata.remote_sensing.MODIS_snow(vertical_tile=v, horizontal_tile=h, clip_to_bbox=False, start_date=f'{WY_start}-04-01', end_date=f'{WY_end+1}-03-31', data_product=\"MOD10A2\", bands='Maximum_Snow_Extent', mute=True).data['Maximum_Snow_Extent']\n",
    "        \n",
    "#         modis_snow_da.coords['WY'] = (\"time\", pd.to_datetime(modis_snow_da.time).map(lambda x: easysnowdata.utils.datetime_to_WY(x, hemisphere=hemisphere)))\n",
    "#         modis_snow_da.coords['DOWY'] = (\"time\", pd.to_datetime(modis_snow_da.time).map(lambda x: easysnowdata.utils.datetime_to_DOWY(x, hemisphere=hemisphere)))\n",
    "    \n",
    "#         modis_snow_da = modis_snow_da[(modis_snow_da.WY >= WY_start) & (modis_snow_da.WY <= WY_end)]\n",
    "        \n",
    "#         effective_snow_da = modis_masking.binarize_with_cloud_filling(modis_snow_da)\n",
    "    \n",
    "#         seasonal_snow_presence = effective_snow_da.groupby('WY').apply(modis_masking.get_max_consec_snow_days_SAD_SDD_one_WY)\n",
    "    \n",
    "#         seasonal_snow_presence.to_zarr(filepath, mode='w-') #compute False so we can use delayed\n",
    "    \n",
    "#         return f'tile h={h} v={v} complete'\n",
    "#     else:\n",
    "#         return f'{filepath} already processed. skipping...'\n",
    "\n",
    "# modis_grid_land_list[0]\n",
    "\n",
    "# # Assuming modis_grid_land_list, output_dir, file_list, WY_start, and WY_end are defined\n",
    "# tasks = [dask.delayed(process_tile)(tile, output_dir, file_list, WY_start, WY_end) for index,tile in modis_grid_land_list[0:1]]\n",
    "# tasks\n",
    "\n",
    "\n",
    "# # Compute tasks in parallel\n",
    "# with ProgressBar():\n",
    "#     results = dask.compute(*tasks)\n",
    "\n",
    "# results"
   ]
  },
  {
   "cell_type": "code",
   "execution_count": null,
   "id": "019893b9",
   "metadata": {},
   "outputs": [],
   "source": []
  }
 ],
 "metadata": {
  "kernelspec": {
   "display_name": "Python 3 (ipykernel)",
   "language": "python",
   "name": "python3"
  },
  "language_info": {
   "codemirror_mode": {
    "name": "ipython",
    "version": 3
   },
   "file_extension": ".py",
   "mimetype": "text/x-python",
   "name": "python",
   "nbconvert_exporter": "python",
   "pygments_lexer": "ipython3",
   "version": "3.10.14"
  }
 },
 "nbformat": 4,
 "nbformat_minor": 5
}
