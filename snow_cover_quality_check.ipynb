{
 "cells": [
  {
   "cell_type": "markdown",
   "id": "ecf5797c",
   "metadata": {},
   "source": [
    "# Comparing custom MODIS seasonal snow cover dataset vs automatic weather stations"
   ]
  },
  {
   "cell_type": "code",
   "execution_count": 1,
   "id": "cb535b55",
   "metadata": {},
   "outputs": [],
   "source": [
    "import adlfs\n",
    "import xarray as xr\n",
    "import pathlib\n",
    "import zarr\n",
    "import rioxarray as rxr\n",
    "import geopandas as gpd\n",
    "import easysnowdata\n",
    "import numpy as np\n",
    "import matplotlib.pyplot as plt\n",
    "import coiled"
   ]
  },
  {
   "cell_type": "code",
   "execution_count": null,
   "id": "0c9722c3",
   "metadata": {},
   "outputs": [],
   "source": [
    "cluster = coiled.Cluster(idle_timeout=\"10 minutes\",\n",
    "                        n_workers=20, \n",
    "                        worker_memory=\"16 GB\", \n",
    "                        worker_cpu=8,\n",
    "                        spot_policy=\"spot\",\n",
    "                        environ={\"GDAL_DISABLE_READDIR_ON_OPEN\": \"EMPTY_DIR\"},\n",
    "                        workspace=\"uwtacolab\",\n",
    "                        )\n",
    "\n",
    "client = cluster.get_client()"
   ]
  },
  {
   "cell_type": "code",
   "execution_count": null,
   "id": "6a1c3a2d",
   "metadata": {},
   "outputs": [],
   "source": [
    "client.restart()"
   ]
  },
  {
   "cell_type": "code",
   "execution_count": 2,
   "id": "abae150a",
   "metadata": {},
   "outputs": [],
   "source": [
    "sas_token = pathlib.Path(\"sas_token.txt\").read_text()\n",
    "\n",
    "mask_store = adlfs.AzureBlobFileSystem(\n",
    "    account_name=\"snowmelt\", credential=sas_token\n",
    ").get_mapper(\"snowmelt/snow_cover/global_modis_snow_cover_4.zarr\")\n",
    "\n",
    "aggregated_mask_store = adlfs.AzureBlobFileSystem(\n",
    "    account_name=\"snowmelt\", credential=sas_token\n",
    ").get_mapper(\"snowmelt/snow_cover/global_modis_snow_cover_4_aggregated.zarr\")"
   ]
  },
  {
   "cell_type": "code",
   "execution_count": null,
   "id": "c49489e4",
   "metadata": {},
   "outputs": [],
   "source": [
    "seasonal_snow_mask_ds = xr.open_zarr(mask_store,\n",
    "                                     decode_coords='all',\n",
    "                                     consolidated=True,\n",
    "                                     mask_and_scale=True,\n",
    "                                     )\n",
    "seasonal_snow_mask_ds"
   ]
  },
  {
   "cell_type": "code",
   "execution_count": null,
   "id": "1ef24bd5",
   "metadata": {},
   "outputs": [],
   "source": [
    "# seasonal_snow_mask_coarsened_ds = seasonal_snow_mask_ds.coarsen(x=10,y=10, boundary='trim').mean()\n",
    "# seasonal_snow_mask_coarsened_ds"
   ]
  },
  {
   "cell_type": "code",
   "execution_count": null,
   "id": "a0a86bff",
   "metadata": {},
   "outputs": [],
   "source": [
    "def median_and_mad_with_min_obs(da, dim, min_count):\n",
    "    count_mask = da.notnull().sum(dim=dim) >= min_count\n",
    "    median = da.where(count_mask).median(dim=dim)\n",
    "    abs_dev = np.abs(da - median)\n",
    "    mad = abs_dev.where(count_mask).median(dim=dim)\n",
    "\n",
    "    return median, mad"
   ]
  },
  {
   "cell_type": "code",
   "execution_count": null,
   "id": "28f9d1d2",
   "metadata": {},
   "outputs": [],
   "source": [
    "# create an xarray dataset with the same data variables and same dimensions x and y, but don't include the dimension \"water_year\". \n",
    "# instead, there should be a different dimension named \"statistic\" and have coordinates \"median\" and \"mad\", with values assigned \n",
    "# based on the output of the median_and_mad_with_min_obs() function. you may have to loop through the data variables. \n",
    "# use the order: create the dataset skeleton first, then loop through the data variables to fill in the values.\n",
    "\n",
    "def create_statistic_dataset(ds, min_count=5):\n",
    "    statistic_ds = xr.Dataset(\n",
    "        coords={\n",
    "            \"x\": ds.x,\n",
    "            \"y\": ds.y,\n",
    "            \"statistic\": [\"median\", \"mad\"]\n",
    "        }\n",
    "    )  # Adjust chunk sizes as needed\n",
    "    for var in ds.data_vars:\n",
    "        median, mad = median_and_mad_with_min_obs(ds[var], dim=\"water_year\", min_count=min_count)\n",
    "        statistic_ds[var] = xr.concat([median, mad], dim=\"statistic\").chunk({\"x\": 2400, \"y\": 2400, \"statistic\": 1})\n",
    "        statistic_ds[var].attrs = ds[var].attrs  # Copy attributes from the original variable\n",
    "    statistic_ds.attrs = ds.attrs  # Copy global attributes from the original dataset\n",
    "    return statistic_ds"
   ]
  },
  {
   "cell_type": "code",
   "execution_count": null,
   "id": "e1cc0e47",
   "metadata": {},
   "outputs": [],
   "source": [
    "seasonal_snow_mask_statistics_ds = create_statistic_dataset(seasonal_snow_mask_ds, min_count=3)\n",
    "seasonal_snow_mask_statistics_ds"
   ]
  },
  {
   "cell_type": "code",
   "execution_count": null,
   "id": "c1993f1c",
   "metadata": {},
   "outputs": [],
   "source": [
    "seasonal_snow_mask_statistics_ds.to_zarr(\n",
    "    aggregated_mask_store, mode=\"w\", consolidated=True, write_empty_chunks=False,\n",
    ")"
   ]
  },
  {
   "cell_type": "code",
   "execution_count": null,
   "id": "0a2b6d45",
   "metadata": {},
   "outputs": [],
   "source": [
    "seasonal_snow_mask_statistics_read_ds = xr.open_zarr(\n",
    "    aggregated_mask_store,\n",
    "    decode_coords='all',\n",
    "    consolidated=True,\n",
    "    mask_and_scale=True,\n",
    ")\n",
    "seasonal_snow_mask_statistics_read_ds"
   ]
  },
  {
   "cell_type": "code",
   "execution_count": null,
   "id": "0dea60e7",
   "metadata": {},
   "outputs": [],
   "source": [
    "seasonal_snow_mask_statistics_coarsened_ds = (\n",
    "    seasonal_snow_mask_statistics_read_ds.coarsen(x=20, y=20, boundary=\"trim\")\n",
    "    .mean()\n",
    "    .compute()\n",
    ")\n",
    "\n",
    "seasonal_snow_mask_statistics_coarsened_ds"
   ]
  },
  {
   "cell_type": "code",
   "execution_count": null,
   "id": "5ecf1ec2",
   "metadata": {},
   "outputs": [],
   "source": [
    "f,ax=plt.subplots(figsize=(12,10))\n",
    "seasonal_snow_mask_statistics_coarsened_ds['max_consec_snow_days'].sel(statistic='mad').plot.imshow(ax=ax, vmin=0, vmax=30, cmap='Reds')\n",
    "ax.set_aspect('equal')"
   ]
  },
  {
   "cell_type": "code",
   "execution_count": null,
   "id": "23c980ad",
   "metadata": {},
   "outputs": [],
   "source": [
    "f,ax=plt.subplots(figsize=(12,10))\n",
    "seasonal_snow_mask_statistics_coarsened_ds['max_consec_snow_days'].sel(statistic='median').plot.imshow(ax=ax, vmin=0, vmax=365, cmap='viridis')\n",
    "ax.set_aspect('equal')"
   ]
  },
  {
   "cell_type": "code",
   "execution_count": null,
   "id": "d22f9d30",
   "metadata": {},
   "outputs": [],
   "source": [
    "# v1 = 16\n",
    "# v2 = 18\n",
    "# h1 = 16\n",
    "# h2 = 18\n",
    "\n",
    "v1 = 2\n",
    "v2 = 4\n",
    "h1 = 9\n",
    "h2 = 13\n",
    "\n",
    "# v1 = 1\n",
    "# v2 = 4\n",
    "# h1 = 12\n",
    "# h2 = 15\n",
    "\n",
    "y_slice = slice(v1 * 2400, v2 * 2400)\n",
    "x_slice = slice(h1 * 2400, h2 * 2400)"
   ]
  },
  {
   "cell_type": "code",
   "execution_count": null,
   "id": "370b2bc0",
   "metadata": {},
   "outputs": [],
   "source": [
    "# f,ax=plt.subplots(figsize=(12,10))\n",
    "# seasonal_snow_mask_statistics_read_ds['max_consec_snow_days'].sel(statistic='mad').isel(y=y_slice,x=x_slice).plot.imshow(ax=ax, vmin=0, vmax=30, cmap='Reds')\n",
    "# ax.set_aspect('equal')"
   ]
  },
  {
   "cell_type": "code",
   "execution_count": null,
   "id": "071cca74",
   "metadata": {},
   "outputs": [],
   "source": [
    "# f,ax=plt.subplots(figsize=(12,10))\n",
    "# seasonal_snow_mask_statistics_read_ds['max_consec_snow_days'].sel(statistic='median').isel(y=y_slice,x=x_slice).plot.imshow(ax=ax, vmin=0, vmax=365, cmap='viridis')\n",
    "# ax.set_aspect('equal')"
   ]
  },
  {
   "cell_type": "code",
   "execution_count": null,
   "id": "1c3c99b9",
   "metadata": {},
   "outputs": [],
   "source": [
    "# f,ax=plt.subplots(figsize=(12,10))\n",
    "# seasonal_snow_mask_statistics_read_ds['SDD_DOWY'].sel(statistic='median').isel(y=y_slice,x=x_slice).plot.imshow(ax=ax, vmin=0, vmax=365, cmap='viridis')\n",
    "# ax.set_aspect('equal')"
   ]
  },
  {
   "cell_type": "code",
   "execution_count": null,
   "id": "48e0c38b",
   "metadata": {},
   "outputs": [],
   "source": [
    "diff_ds = seasonal_snow_mask_ds['SDD_DOWY'].isel(y=y_slice,x=x_slice)-seasonal_snow_mask_statistics_read_ds['SDD_DOWY'].isel(y=y_slice,x=x_slice).sel(statistic='median')\n",
    "diff_ds"
   ]
  },
  {
   "cell_type": "code",
   "execution_count": null,
   "id": "0ddfae98",
   "metadata": {},
   "outputs": [],
   "source": [
    "diff_ds = diff_ds.compute()\n",
    "diff_ds"
   ]
  },
  {
   "cell_type": "code",
   "execution_count": null,
   "id": "d81947df",
   "metadata": {},
   "outputs": [],
   "source": [
    "diff_ds.plot.imshow(col='water_year', col_wrap=5,cmap='RdBu',vmin=-40,vmax=40)"
   ]
  },
  {
   "cell_type": "code",
   "execution_count": null,
   "id": "21d6350d",
   "metadata": {},
   "outputs": [],
   "source": [
    "# # add 10 year median and 10 year median absolute deviation for each variable \"SAD_DOWY\",\"SDD_DOWY\",\"max_consec_snow_days\" based on the previous cell\n",
    "\n",
    "# min_count = 3  # Minimum number of observations required to compute median and MAD\n",
    "\n",
    "# seasonal_snow_mask_coarsened_ds['SAD_DOWY_median'], seasonal_snow_mask_coarsened_ds['SAD_DOWY_mad'] = median_and_mad_with_min_obs(\n",
    "#     seasonal_snow_mask_coarsened_ds['SAD_DOWY'], dim='water_year', min_count=min_count)\n",
    "# seasonal_snow_mask_coarsened_ds['SDD_DOWY_median'], seasonal_snow_mask_coarsened_ds['SDD_DOWY_mad'] = median_and_mad_with_min_obs(\n",
    "#     seasonal_snow_mask_coarsened_ds['SDD_DOWY'], dim='water_year', min_count=min_count)\n",
    "# seasonal_snow_mask_coarsened_ds['max_consec_snow_days_median'], seasonal_snow_mask_coarsened_ds['max_consec_snow_days_mad'] = median_and_mad_with_min_obs(\n",
    "#     seasonal_snow_mask_coarsened_ds['max_consec_snow_days'], dim='water_year', min_count=min_count)\n",
    "\n",
    "# seasonal_snow_mask_coarsened_ds\n"
   ]
  },
  {
   "cell_type": "code",
   "execution_count": null,
   "id": "0b8104be",
   "metadata": {},
   "outputs": [],
   "source": []
  }
 ],
 "metadata": {
  "kernelspec": {
   "display_name": "new_global_snowmelt_runoff_onset",
   "language": "python",
   "name": "python3"
  },
  "language_info": {
   "codemirror_mode": {
    "name": "ipython",
    "version": 3
   },
   "file_extension": ".py",
   "mimetype": "text/x-python",
   "name": "python",
   "nbconvert_exporter": "python",
   "pygments_lexer": "ipython3",
   "version": "3.13.3"
  }
 },
 "nbformat": 4,
 "nbformat_minor": 5
}
