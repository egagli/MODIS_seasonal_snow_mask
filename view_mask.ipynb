{
 "cells": [
  {
   "cell_type": "code",
   "execution_count": null,
   "metadata": {},
   "outputs": [],
   "source": [
    "# !pip uninstall -y numpy\n",
    "# !pip install numpy==1.26.4 "
   ]
  },
  {
   "cell_type": "code",
   "execution_count": null,
   "metadata": {},
   "outputs": [],
   "source": [
    "import numpy as np\n",
    "import xarray as xr\n",
    "import rioxarray\n",
    "import glob\n",
    "import matplotlib.pyplot as plt\n",
    "import dask.distributed\n",
    "import odc.geo.xr"
   ]
  },
  {
   "cell_type": "code",
   "execution_count": null,
   "metadata": {},
   "outputs": [],
   "source": [
    "client = dask.distributed.Client()\n",
    "client"
   ]
  },
  {
   "cell_type": "code",
   "execution_count": null,
   "metadata": {},
   "outputs": [],
   "source": [
    "!du -h --max-depth=1 output/full_mask/"
   ]
  },
  {
   "cell_type": "code",
   "execution_count": null,
   "metadata": {},
   "outputs": [],
   "source": [
    "mask_ds = xr.open_zarr(\"output/full_mask/global_modis_snow_mask.zarr\",chunks='auto')#.sel(y=slice(-8885139,8885139))\n",
    "#mask_ds.rio.write_crs('+proj=sinu +lon_0=0 +x_0=0 +y_0=0 +ellps=WGS84 +datum=WGS84 +units=m +no_defs', inplace=True)\n",
    "mask_ds"
   ]
  },
  {
   "cell_type": "code",
   "execution_count": null,
   "metadata": {},
   "outputs": [],
   "source": [
    "mask_ds['max_consec_snow_days'].sel(WY=2020).rio.to_raster(\"test_max_consec_snow_days_WY2020.tif\", driver='COG',windowed=True)"
   ]
  },
  {
   "cell_type": "code",
   "execution_count": null,
   "metadata": {},
   "outputs": [],
   "source": [
    "import pyproj\n",
    "import xarray as xr\n",
    "\n",
    "# Assuming mask_ds is your xarray dataset\n",
    "# Define the bounding box in its original CRS (e.g., EPSG:4326)\n",
    "#bbox_original_crs = {'left': -120, 'bottom': 30, 'right': -110, 'top': 40}\n",
    "bbox_original_crs = {'left': -179.8, 'bottom': -80, 'right': 179.8, 'top': 80}\n",
    "\n",
    "\n",
    "# Define the CRS for the bounding box and the dataset\n",
    "crs_original = pyproj.CRS('EPSG:4326')  # Example: WGS84\n",
    "crs_target = pyproj.CRS(mask_ds.rio.crs)  # Assuming mask_ds has a CRS defined\n",
    "#crs_target = pyproj.CRS('+proj=sinu +lon_0=0 +x_0=0 +y_0=0 +ellps=WGS84 +datum=WGS84 +units=m +no_defs')  # Assuming mask_ds has a CRS defined\n",
    "#crs_target = pyproj.CRS(modis_grid.crs)  # Assuming mask_ds has a CRS defined\n",
    "\n",
    "\n",
    "# Create a transformer to convert between the original and target CRS\n",
    "transformer = pyproj.Transformer.from_crs(crs_original, crs_target, always_xy=True)\n",
    "\n",
    "# Transform the bounding box coordinates to the dataset's CRS\n",
    "left, bottom = transformer.transform(bbox_original_crs['left'], bbox_original_crs['bottom'])\n",
    "right, top = transformer.transform(bbox_original_crs['right'], bbox_original_crs['top'])\n",
    "\n",
    "# Use the transformed bounding box to slice the dataset\n",
    "# Note: The slicing dimensions ('x', 'y') might need to be adjusted based on your dataset's coordinate names\n",
    "subset = mask_ds.sel(x=slice(left,right),y=slice(bottom, top))#.rio.reproject(crs_original).sel(x=slice(bbox_original_crs['left'], bbox_original_crs['right']), y=slice(bbox_original_crs['top'], bbox_original_crs['bottom']))"
   ]
  },
  {
   "cell_type": "code",
   "execution_count": null,
   "metadata": {},
   "outputs": [],
   "source": [
    "left, right, bottom, top"
   ]
  },
  {
   "cell_type": "code",
   "execution_count": null,
   "metadata": {},
   "outputs": [],
   "source": [
    "subset['max_consec_snow_days'].sel(WY=2015).rio.to_raster(\"test_max_consec_snow_days_WY2015.tif\", driver='COG')"
   ]
  },
  {
   "cell_type": "code",
   "execution_count": null,
   "metadata": {},
   "outputs": [],
   "source": [
    "# just host in the modis projection, use above to reproject right to utm. reprojection twice is inaccurate\n",
    "#subset.odc.reproject(crs_original,resampling='nearest').to_zarr('output/full_mask_4326/global_modis_snow_mask_4326.zarr',mode='w')"
   ]
  },
  {
   "cell_type": "code",
   "execution_count": null,
   "metadata": {},
   "outputs": [],
   "source": [
    "#subset.sel(x=slice(-120, -110), y=slice(30, 40))"
   ]
  },
  {
   "cell_type": "code",
   "execution_count": null,
   "metadata": {},
   "outputs": [],
   "source": [
    "f,ax=plt.subplots()\n",
    "\n",
    "subset['max_consec_snow_days'].sel(WY=2020).plot.imshow(ax=ax)"
   ]
  },
  {
   "cell_type": "code",
   "execution_count": null,
   "metadata": {},
   "outputs": [],
   "source": []
  },
  {
   "cell_type": "code",
   "execution_count": null,
   "metadata": {},
   "outputs": [],
   "source": [
    "import zarr\n",
    "import azure.storage.blob\n",
    "\n",
    "sas_token = \n",
    "def upload_zarr(file_path):\n",
    "    container_client = azure.storage.blob.ContainerClient(\n",
    "        \"https://snowmelt.blob.core.windows.net\",\n",
    "        container_name=\"snowmelt\",\n",
    "        credential=sas_token,\n",
    "    )\n",
    "    store = zarr.ABSStore(client=container_client, prefix='/')\n",
    "    ds = zarr.open(file_path)\n",
    "    group = zarr.group(store=store)\n",
    "    zarr.convenience.copy(ds, group, 'sample.zarr')\n",
    "print(\"finished writing to Azure\")"
   ]
  },
  {
   "cell_type": "code",
   "execution_count": null,
   "metadata": {},
   "outputs": [],
   "source": []
  },
  {
   "cell_type": "code",
   "execution_count": null,
   "metadata": {},
   "outputs": [],
   "source": []
  },
  {
   "cell_type": "code",
   "execution_count": null,
   "metadata": {},
   "outputs": [],
   "source": []
  },
  {
   "cell_type": "code",
   "execution_count": null,
   "metadata": {},
   "outputs": [],
   "source": []
  },
  {
   "cell_type": "code",
   "execution_count": null,
   "metadata": {},
   "outputs": [],
   "source": [
    "#mask_ds.rio.clip_box(-180,-90,180,90, crs=\"EPSG:4326\")"
   ]
  },
  {
   "cell_type": "code",
   "execution_count": null,
   "metadata": {},
   "outputs": [],
   "source": [
    "mask_ds.odc.reproject(\n",
    "    \"EPSG:4326\"\n",
    ")  # .to_zarr('output/full_mask/global_modis_snow_mask_4326.zarr', mode='w')"
   ]
  },
  {
   "cell_type": "code",
   "execution_count": null,
   "metadata": {},
   "outputs": [],
   "source": [
    "mask_ds[\"max_consec_snow_days\"].sel(WY=2020).rio.reproject(\n",
    "    \"EPSG:4326\"\n",
    ")  # .plot.imshow()"
   ]
  },
  {
   "cell_type": "code",
   "execution_count": null,
   "metadata": {},
   "outputs": [],
   "source": [
    "import rioxarray\n",
    "import xarray as xr\n",
    "from osgeo import gdal\n",
    "import numpy as np\n",
    "\n",
    "# Open the Zarr dataset\n",
    "ds = xr.open_zarr(\"output/full_mask/global_modis_snow_mask.zarr\")\n",
    "\n",
    "# Assuming the main data variable is named 'snow_mask'. Adjust if different.\n",
    "data_var = ds\n",
    "\n",
    "# Create a GDAL dataset from the xarray DataArray\n",
    "gdal_dataset = gdal.Open(\n",
    "    data_var.rio.write_crs(data_var.rio.crs, inplace=True).rio.to_vrt(),\n",
    "    gdal.GA_ReadOnly,\n",
    ")\n",
    "\n",
    "# Define source and target projections\n",
    "src_proj = (\n",
    "    \"+proj=sinu +lon_0=0 +x_0=0 +y_0=0 +ellps=WGS84 +datum=WGS84 +units=m +no_defs\"\n",
    ")\n",
    "dst_proj = \"EPSG:4326\"\n",
    "\n",
    "# Create a VRT with the new projection\n",
    "vrt_options = gdal.BuildVRTOptions(outputBounds=None, outputBoundsSRS=dst_proj)\n",
    "vrt = gdal.BuildVRT(\"\", [gdal_dataset], options=vrt_options)\n",
    "\n",
    "# Set the projection on the VRT\n",
    "vrt.SetProjection(dst_proj)\n",
    "\n",
    "# Create a warped VRT\n",
    "warped_vrt = gdal.AutoCreateWarpedVRT(vrt, src_proj, dst_proj)\n",
    "\n",
    "# Read the data from the warped VRT\n",
    "warped_data = warped_vrt.ReadAsArray()\n",
    "\n",
    "# Get the geotransform and projection of the warped data\n",
    "geotransform = warped_vrt.GetGeoTransform()\n",
    "projection = warped_vrt.GetProjection()\n",
    "\n",
    "# Create a new xarray DataArray with the warped data\n",
    "new_coords = {\n",
    "    \"y\": np.arange(warped_data.shape[1]) * geotransform[5] + geotransform[3],\n",
    "    \"x\": np.arange(warped_data.shape[2]) * geotransform[1] + geotransform[0],\n",
    "}\n",
    "new_da = xr.DataArray(warped_data, coords=new_coords, dims=(\"band\", \"y\", \"x\"))\n",
    "\n",
    "# Set the CRS attribute\n",
    "new_da.rio.write_crs(dst_proj, inplace=True)\n",
    "\n",
    "# Create a new Dataset with the warped DataArray\n",
    "new_ds = new_da.to_dataset(name=\"snow_mask\")\n",
    "\n",
    "# Save the new Dataset to a Zarr store\n",
    "new_ds.to_zarr(\"/path/to/output_reprojected.zarr\")\n",
    "\n",
    "# Clean up\n",
    "del vrt, warped_vrt, gdal_dataset"
   ]
  },
  {
   "cell_type": "code",
   "execution_count": null,
   "metadata": {},
   "outputs": [],
   "source": []
  }
 ],
 "metadata": {
  "kernelspec": {
   "display_name": "sar_snowmelt_timing",
   "language": "python",
   "name": "python3"
  },
  "language_info": {
   "codemirror_mode": {
    "name": "ipython",
    "version": 3
   },
   "file_extension": ".py",
   "mimetype": "text/x-python",
   "name": "python",
   "nbconvert_exporter": "python",
   "pygments_lexer": "ipython3",
   "version": "3.10.14"
  }
 },
 "nbformat": 4,
 "nbformat_minor": 2
}
